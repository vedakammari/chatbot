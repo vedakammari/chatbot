{
  "nbformat": 4,
  "nbformat_minor": 0,
  "metadata": {
    "colab": {
      "provenance": []
    },
    "kernelspec": {
      "name": "python3",
      "display_name": "Python 3"
    },
    "language_info": {
      "name": "python"
    }
  },
  "cells": [
    {
      "cell_type": "code",
      "execution_count": null,
      "metadata": {
        "colab": {
          "base_uri": "https://localhost:8080/"
        },
        "id": "USH-2UWfOUDc",
        "outputId": "319bee00-e644-4ecf-a369-796f5d177ea8"
      },
      "outputs": [
        {
          "output_type": "stream",
          "name": "stdout",
          "text": [
            "🤖 Sentiment Chatbot (type 'exit' to stop)\n",
            "You: i love programming'\n",
            "Bot: 😊 Positive Sentiment\n",
            "You: this is terrible\n",
            "Bot: 😟 Negative Sentiment\n",
            "You: it's ok,iam guess\n",
            "Bot: 😐 Neutral Sentiment\n"
          ]
        }
      ],
      "source": [
        "# Step 1: Install TextBlob if not already installed\n",
        "# Run this only once\n",
        "# pip install textblob\n",
        "# python -m textblob.download_corpora\n",
        "\n",
        "from textblob import TextBlob\n",
        "import re\n",
        "\n",
        "# Step 2: Function to clean user input\n",
        "def clean_text(text):\n",
        "    \"\"\"\n",
        "    Removes special characters and converts text to lowercase.\n",
        "    \"\"\"\n",
        "    text = re.sub(r\"[^a-zA-Z\\s]\", \"\", text)  # Keep only letters and spaces\n",
        "    text = text.lower()\n",
        "    return text\n",
        "\n",
        "# Step 3: Function to analyze sentiment using TextBlob\n",
        "def analyze_sentiment(text):\n",
        "    \"\"\"\n",
        "    Returns sentiment category based on polarity score.\n",
        "    \"\"\"\n",
        "    cleaned = clean_text(text)\n",
        "    blob = TextBlob(cleaned)\n",
        "    polarity = blob.sentiment.polarity  # Range: [-1.0, 1.0]\n",
        "\n",
        "    if polarity > 0:\n",
        "        return \"😊 Positive Sentiment\"\n",
        "    elif polarity < 0:\n",
        "        return \"😟 Negative Sentiment\"\n",
        "    else:\n",
        "        return \"😐 Neutral Sentiment\"\n",
        "\n",
        "# Step 4: Chatbot logic (infinite loop until 'exit')\n",
        "print(\"🤖 Sentiment Chatbot (type 'exit' to stop)\")\n",
        "\n",
        "while True:\n",
        "    user_input = input(\"You: \")\n",
        "\n",
        "    if user_input.lower() in [\"exit\", \"quit\"]:\n",
        "        print(\"Bot: Goodbye! Take care 💬\")\n",
        "        break\n",
        "\n",
        "    sentiment = analyze_sentiment(user_input)\n",
        "    print(\"Bot:\", sentiment)\n"
      ]
    }
  ]
}